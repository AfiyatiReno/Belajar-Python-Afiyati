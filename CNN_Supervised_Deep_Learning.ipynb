{
  "nbformat": 4,
  "nbformat_minor": 0,
  "metadata": {
    "colab": {
      "name": "CNN_Supervised_Deep_Learning.ipynb",
      "version": "0.3.2",
      "provenance": [],
      "private_outputs": true,
      "collapsed_sections": [],
      "include_colab_link": true
    },
    "kernelspec": {
      "name": "python3",
      "display_name": "Python 3"
    },
    "accelerator": "GPU"
  },
  "cells": [
    {
      "cell_type": "markdown",
      "metadata": {
        "id": "view-in-github",
        "colab_type": "text"
      },
      "source": [
        "<a href=\"https://colab.research.google.com/github/AfiyatiReno/Belajar-Python-Afiyati/blob/master/CNN_Supervised_Deep_Learning.ipynb\" target=\"_parent\"><img src=\"https://colab.research.google.com/assets/colab-badge.svg\" alt=\"Open In Colab\"/></a>"
      ]
    },
    {
      "cell_type": "markdown",
      "metadata": {
        "id": "ItbLtxyt44zH",
        "colab_type": "text"
      },
      "source": [
        "<img src = \"https://i.imgur.com/XoRDxQJ.png\" align = \"center\">"
      ]
    },
    {
      "cell_type": "code",
      "metadata": {
        "id": "p-Snjs5f7bBj",
        "colab_type": "code",
        "colab": {}
      },
      "source": [
        ""
      ],
      "execution_count": 0,
      "outputs": []
    },
    {
      "cell_type": "markdown",
      "metadata": {
        "id": "FW8YBWjy-toQ",
        "colab_type": "text"
      },
      "source": [
        "#Fashion-MNIST Classification with CNN using Keras\n"
      ]
    },
    {
      "cell_type": "markdown",
      "metadata": {
        "id": "fgJzBfC_-l1K",
        "colab_type": "text"
      },
      "source": [
        "## Why Jupyter Notebook?\n",
        "\n",
        "\n",
        "*   Interactive programming in the web browser\n",
        "*   Great for visualization\n",
        "*   Great for collabration\n",
        "*   Popular tool for studying machine learning / deep learning\n"
      ]
    },
    {
      "cell_type": "markdown",
      "metadata": {
        "id": "tukeoYzu8amR",
        "colab_type": "text"
      },
      "source": [
        "##Why Keras?\n",
        "\n",
        "There are many deep learning frameworks available in the market like [TensorFlow](https://www.tensorflow.org/), [Theano](http://deeplearning.net/software/theano/). But why Keras?\n",
        "\n",
        "\n",
        "\n",
        "*   Simple\n",
        "*   Keras is top level API library where we can use any framework as our backend, by default it recommends TensorFlow\n",
        "*   Keras is easy to learn and easy to use\n",
        "\n"
      ]
    },
    {
      "cell_type": "markdown",
      "metadata": {
        "id": "rEjOa8IC-_bV",
        "colab_type": "text"
      },
      "source": [
        "## Why Fashion-MNIST?\n",
        "\n",
        "\n",
        "*   MNIST is too easy\n",
        "*   MNIST is overused\n",
        "*   MNIST can not represent modern Computer Vision tasks\n",
        "\n",
        "Read more about the Fashion-MINST dataset in this paper [here](https://arxiv.org/abs/1708.07747) (**Fashion-MNIST: a Novel Image Dataset for Benchmarking Machine Learning Algorithms**)\n"
      ]
    },
    {
      "cell_type": "markdown",
      "metadata": {
        "id": "7JiG3CebBN_f",
        "colab_type": "text"
      },
      "source": [
        "## Dataset Description\n",
        "The Fashion MNIST data set contains 70,000 grayscale images in 10 categories. \n",
        "The images show individual articles of clothing at low resolution (28 by 28 pixels), as seen here:\n",
        "\n",
        "![alt text](https://miro.medium.com/max/840/0*dOOHSSWACxZJ_eIR)"
      ]
    },
    {
      "cell_type": "code",
      "metadata": {
        "id": "nY69T3D2bgje",
        "colab_type": "code",
        "colab": {}
      },
      "source": [
        "import keras\n",
        "from keras.datasets import fashion_mnist \n",
        "from keras.layers import Dense, Conv2D, MaxPooling2D, Activation, Flatten, Dropout\n",
        "from keras.layers.normalization import BatchNormalization\n",
        "from keras.models import Sequential\n",
        "from keras.utils import to_categorical\n",
        "import numpy as np\n",
        "import matplotlib.pyplot as plt"
      ],
      "execution_count": 0,
      "outputs": []
    },
    {
      "cell_type": "code",
      "metadata": {
        "id": "bzjiKLVyirJ-",
        "colab_type": "code",
        "colab": {}
      },
      "source": [
        "#download fashion MNIST dataset\n",
        "(X_train,Y_train), (X_test,Y_test) = fashion_mnist.load_data()"
      ],
      "execution_count": 0,
      "outputs": []
    },
    {
      "cell_type": "code",
      "metadata": {
        "id": "lZOMjvnpiuh2",
        "colab_type": "code",
        "colab": {}
      },
      "source": [
        "#check image shape\n",
        "X_train.shape"
      ],
      "execution_count": 0,
      "outputs": []
    },
    {
      "cell_type": "code",
      "metadata": {
        "id": "xcqluGbFeU18",
        "colab_type": "code",
        "colab": {}
      },
      "source": [
        "# Define the text labels\n",
        "fashion_mnist_labels = [\"T-shirt/top\",  # index 0\n",
        "                        \"Trouser\",      # index 1\n",
        "                        \"Pullover\",     # index 2 \n",
        "                        \"Dress\",        # index 3 \n",
        "                        \"Coat\",         # index 4\n",
        "                        \"Sandal\",       # index 5\n",
        "                        \"Shirt\",        # index 6 \n",
        "                        \"Sneaker\",      # index 7 \n",
        "                        \"Bag\",          # index 8 \n",
        "                        \"Ankle boot\"]   # index 9\n",
        "\n",
        "# Image index, you can pick any number between 0 and 59,999\n",
        "img_index = 10\n",
        "# y_train contains the lables, ranging from 0 to 9\n",
        "label_index = Y_train[img_index]\n",
        "# # Show one of the images from the training dataset\n",
        "plt.imshow(X_train[img_index], cmap='Greys')\n",
        "# Print the label, for example 2 Pullover\n",
        "print(\"y = \" + str(label_index))\n",
        "print(\"Label\" +\":\"+(fashion_mnist_labels[label_index]))"
      ],
      "execution_count": 0,
      "outputs": []
    },
    {
      "cell_type": "code",
      "metadata": {
        "id": "MjMl6Rk5F6Bv",
        "colab_type": "code",
        "colab": {}
      },
      "source": [
        "#See the data in a matrix 28x28\n",
        "import pandas as pd\n",
        "\n",
        "val = X_train[img_index]\n",
        "display(pd.DataFrame(val))"
      ],
      "execution_count": 0,
      "outputs": []
    },
    {
      "cell_type": "markdown",
      "metadata": {
        "id": "zSmEEtnKBzLg",
        "colab_type": "text"
      },
      "source": [
        "##Data Preprocessing"
      ]
    },
    {
      "cell_type": "markdown",
      "metadata": {
        "id": "gIRoe3t3EmCZ",
        "colab_type": "text"
      },
      "source": [
        "Modifying the values of each pixel such that they range from 0 to 1 will improve the rate at which our model learns."
      ]
    },
    {
      "cell_type": "code",
      "metadata": {
        "id": "iCrZJXWcjnj6",
        "colab_type": "code",
        "colab": {}
      },
      "source": [
        "# scale data to the range of [0, 1]\n",
        "X_train = X_train.astype(\"float32\") / 255.0\n",
        "X_test = X_test.astype(\"float32\") / 255.0"
      ],
      "execution_count": 0,
      "outputs": []
    },
    {
      "cell_type": "markdown",
      "metadata": {
        "id": "YE8bnBeSl6kK",
        "colab_type": "text"
      },
      "source": [
        "## Split the data into train/validation/test data sets\n",
        "\n",
        "\n",
        "*   Training data - used for training the model\n",
        "*   Validation data - used for tuning the hyperparameters and evaluate the models\n",
        "*   Test data - used to test the model after the model has gone through initial vetting by the validation set."
      ]
    },
    {
      "cell_type": "code",
      "metadata": {
        "id": "C871W2S9l0w5",
        "colab_type": "code",
        "colab": {}
      },
      "source": [
        "# Further break training data into train / validation sets (# put 5000 into validation set and keep remaining 55,000 for train)\n",
        "(X_train, X_valid) = X_train[5000:], X_train[:5000] \n",
        "(Y_train, Y_valid) = Y_train[5000:], Y_train[:5000]"
      ],
      "execution_count": 0,
      "outputs": []
    },
    {
      "cell_type": "code",
      "metadata": {
        "id": "V7_tAyMa7Det",
        "colab_type": "code",
        "colab": {}
      },
      "source": [
        "X_train.shape[0]"
      ],
      "execution_count": 0,
      "outputs": []
    },
    {
      "cell_type": "markdown",
      "metadata": {
        "id": "7tWWKq3-54Ub",
        "colab_type": "text"
      },
      "source": [
        "When using a convolutional layer as the first layer to our model, we need to reshape our data to (***n_images, x_shape, y_shape, channels***). All we really need to know is that we should set ***channels*** to **1 for grayscale images** and set ***channels*** to **3** when we have a set of **RGB-images** as input."
      ]
    },
    {
      "cell_type": "code",
      "metadata": {
        "id": "VBbokXLm5pTu",
        "colab_type": "code",
        "colab": {}
      },
      "source": [
        "# Reshape input data from (28, 28) to (28, 28, 1)\n",
        "w, h = 28, 28\n",
        "X_train = X_train.reshape(X_train.shape[0], w, h, 1)\n",
        "X_valid = X_valid.reshape(X_valid.shape[0], w, h, 1)\n",
        "X_test = X_test.reshape(X_test.shape[0], w, h, 1)"
      ],
      "execution_count": 0,
      "outputs": []
    },
    {
      "cell_type": "code",
      "metadata": {
        "id": "ZlyXGhm68A4P",
        "colab_type": "code",
        "colab": {}
      },
      "source": [
        "# Print training set shape\n",
        "print(\"x_train shape:\", Y_train.shape, \"y_train shape:\", Y_train.shape)\n",
        "\n",
        "# Print the number of training, validation, and test datasets\n",
        "print(X_train.shape[0], 'train set')\n",
        "print(X_valid.shape[0], 'validation set')\n",
        "print(X_test.shape[0], 'test set')"
      ],
      "execution_count": 0,
      "outputs": []
    },
    {
      "cell_type": "markdown",
      "metadata": {
        "id": "eA2yCgyJ7jXL",
        "colab_type": "text"
      },
      "source": [
        "Our model cannot work with categorical data directly. Therefore, we must use one hot encoding. In one hot encoding, the digits 0 through 9 are represented as a set of nine zeros and a single one. The digit is determined by the location of the number 1. For example, we’d represent a 3 as [0, 0, 0, 1, 0, 0, 0, 0, 0, 0]."
      ]
    },
    {
      "cell_type": "code",
      "metadata": {
        "id": "-HyBHfZy6QoO",
        "colab_type": "code",
        "colab": {}
      },
      "source": [
        "\n",
        "# One-hot encode the labels\n",
        "Y_train_one_hot = to_categorical(Y_train, 10)\n",
        "Y_valid_one_hot = to_categorical(Y_valid, 10)\n",
        "Y_test_one_hot = to_categorical(Y_test, 10)\n",
        "Y_train_one_hot[0]"
      ],
      "execution_count": 0,
      "outputs": []
    },
    {
      "cell_type": "markdown",
      "metadata": {
        "id": "Ucsc7nRfG8n6",
        "colab_type": "text"
      },
      "source": [
        "## Create the model architecture\n",
        "\n",
        "There are two APIs for defining a model in Keras:\n",
        "1. [Sequential model API](https://keras.io/models/sequential/)\n",
        "2. [Functional API](https://keras.io/models/model/)\n",
        "\n",
        "In this notebook we are using the Sequential model API. \n",
        "If you are interested in a tutorial using the Functional API, checkout Sara Robinson's blog [Predicting the price of wine with the Keras Functional API and TensorFlow](https://medium.com/tensorflow/predicting-the-price-of-wine-with-the-keras-functional-api-and-tensorflow-a95d1c2c1b03).\n",
        "\n",
        "In defining the model we will be using some of these Keras APIs:\n",
        "*   Conv2D() [link text]( https://www.pyimagesearch.com/2018/12/31/keras-conv2d-and-convolutional-layers/) - create a convolutional layer \n",
        "*   Pooling() [link text](https://keras.io/layers/pooling/) - create a pooling layer \n",
        "*   Dropout() [link text](https://towardsdatascience.com/machine-learning-part-20-dropout-keras-layers-explained-8c9f6dc4c9ab) - apply drop out "
      ]
    },
    {
      "cell_type": "markdown",
      "metadata": {
        "id": "gBZZvPGQY5Pd",
        "colab_type": "text"
      },
      "source": [
        "###Activation Function in Neural Network\n",
        "\n",
        "####Why Activation function?\n",
        "![alt text](https://miro.medium.com/max/1280/1*YI211tVqoRB414cjUcF7WQ.gif)\n",
        "\n",
        "If we do not apply a Activation function then the output signal would simply be a simple **linear function**.A linear function is just a polynomial of **one degree**.  A Neural Network without Activation function would simply be a **Linear regression Model**, which has limited power and does not performs good most of the times.\n",
        "While building a neural network, one of the mandatory choices we need to make is which activation function to use. In fact, it is an unavoidable choice because activation functions are the foundations for a neural network to learn and approximate any kind of complex and continuous relationship between variables. It simply adds non-linearity to the network.\n",
        "\n",
        "####Which one to prefer?\n",
        "\n",
        "\n",
        "1.   Logistic/Sigmoid\n",
        "     * Range [0,1]\n",
        "2.   Tanh ( hyperbolic tangent) \n",
        "     * Range [-1,1]\n",
        "     * For RNN, the tanh activation function is preferred as a standard activation function.\n",
        "3.   ReLu (Rectified linear units) \n",
        "     * Range [0,x]\n",
        "     * It is the most commonly used function because of its simplicity.\n",
        "     * ReLu should be only used in hidden layers.\n",
        "4.   Softmax \n",
        "     * The softmax activation function is again a type of sigmoid function.\n",
        "     * Softmax is used for multiclass classification problem.\n",
        "     * Softmax is generally preferred in the output layer where we are trying to get probabilities for different classes in the output."
      ]
    },
    {
      "cell_type": "code",
      "metadata": {
        "id": "qi1oVodakYFf",
        "colab_type": "code",
        "colab": {}
      },
      "source": [
        "model = Sequential()\n",
        "model.add(Conv2D(filters=64, \n",
        "                 kernel_size=2,\n",
        "                 padding='same',\n",
        "                 activation='relu',\n",
        "                 input_shape=(28, 28, 1)))\n",
        "model.add(MaxPooling2D(pool_size=(2,2)))\n",
        "model.add(Dropout(0.5))\n",
        "\n",
        "model.add(Conv2D(filters=32, \n",
        "                 kernel_size=2,\n",
        "                 padding='same',\n",
        "                 activation='relu'))\n",
        "model.add(MaxPooling2D(pool_size=(2,2)))\n",
        "model.add(Dropout(0.5))\n",
        "\n",
        "model.add(Flatten())\n",
        "model.add(Dense(256, activation='relu'))\n",
        "model.add(Dropout(0.5))\n",
        "\n",
        "model.add(Dense(10, activation='softmax')) #10 indicates the number of class"
      ],
      "execution_count": 0,
      "outputs": []
    },
    {
      "cell_type": "code",
      "metadata": {
        "id": "lvKkUxj1mFKV",
        "colab_type": "code",
        "colab": {}
      },
      "source": [
        "model.summary()"
      ],
      "execution_count": 0,
      "outputs": []
    },
    {
      "cell_type": "markdown",
      "metadata": {
        "id": "t2zxQ-OseK7Y",
        "colab_type": "text"
      },
      "source": [
        "Reference for number of parameter in Dense layer: [link text](https://medium.com/@zhang_yang/number-of-parameters-in-dense-and-convolutional-neural-networks-34b54c2ec349) "
      ]
    },
    {
      "cell_type": "markdown",
      "metadata": {
        "id": "qcyvxMAThkhd",
        "colab_type": "text"
      },
      "source": [
        "##Compile The Model\n",
        "We use model.compile() to configure the learning process before training the model. This is where we define the type of loss function, optimizer and the metrics evaluated by the model during training and testing."
      ]
    },
    {
      "cell_type": "code",
      "metadata": {
        "id": "tUf7I-7iIx0_",
        "colab_type": "code",
        "colab": {}
      },
      "source": [
        "model.compile(loss=keras.losses.categorical_crossentropy, optimizer=keras.optimizers.Adam(),metrics=['accuracy'])"
      ],
      "execution_count": 0,
      "outputs": []
    },
    {
      "cell_type": "code",
      "metadata": {
        "id": "QrbTCAxkpCZ7",
        "colab_type": "code",
        "colab": {}
      },
      "source": [
        "from keras.utils import plot_model\n",
        "\n",
        "plot_model(model, show_shapes=True, to_file='CNN.png')\n",
        "\n",
        "from IPython.display import Image\n",
        "Image('CNN.png')"
      ],
      "execution_count": 0,
      "outputs": []
    },
    {
      "cell_type": "code",
      "metadata": {
        "id": "94xA2z7RARRw",
        "colab_type": "code",
        "colab": {}
      },
      "source": [
        "#These codes aim to make sure that all dimension have the same shape \n",
        "print(X_train.shape)\n",
        "print(Y_train_one_hot.shape)\n",
        "print(X_valid.shape)\n",
        "print(Y_valid_one_hot.shape)"
      ],
      "execution_count": 0,
      "outputs": []
    },
    {
      "cell_type": "markdown",
      "metadata": {
        "id": "CCvbQR4Eh4nJ",
        "colab_type": "text"
      },
      "source": [
        "##Train The Model\n",
        "We will train the model with a batch_size of 64 and 10 epochs. Check out this [link text](https://towardsdatascience.com/epoch-vs-iterations-vs-batch-size-4dfb9c7ce9c9) to learn more about epoch, iterations, and batch.\n",
        "\n",
        "\n",
        "\n",
        "1.   **Epoch**: One Epoch is when an ENTIRE dataset is passed forward and backward through the neural network only ONCE.\n",
        "2.   **Batch size**: Total number of training examples present in a single batch.\n",
        "3.   **Iterations**: Iterations is the number of batches needed to complete one epoch.\n",
        "\n",
        "Let’s say we have 2000 training examples that we are going to use .\n",
        "We can divide the dataset of 2000 examples into batches of 500 then it will take 4 iterations to complete 1 epoch.\n",
        "\n"
      ]
    },
    {
      "cell_type": "code",
      "metadata": {
        "id": "fb9KV6h4lpnX",
        "colab_type": "code",
        "colab": {}
      },
      "source": [
        "from keras.callbacks import ModelCheckpoint\n",
        "\n",
        "checkpointer = ModelCheckpoint(filepath='model.weights.best.hdf5', verbose = 1, save_best_only=True)\n",
        "hst = model.fit(X_train,\n",
        "         Y_train_one_hot,\n",
        "         batch_size=256,\n",
        "         epochs=10,\n",
        "         validation_data=(X_valid, Y_valid_one_hot),\n",
        "         callbacks=[checkpointer])"
      ],
      "execution_count": 0,
      "outputs": []
    },
    {
      "cell_type": "code",
      "metadata": {
        "id": "3fB-lFgxIiEf",
        "colab_type": "code",
        "colab": {}
      },
      "source": [
        "test_loss, test_acc = model.evaluate(X_test, Y_test_one_hot)\n",
        "print('Test loss', test_loss)\n",
        "print('Test accuracy', test_acc)"
      ],
      "execution_count": 0,
      "outputs": []
    },
    {
      "cell_type": "code",
      "metadata": {
        "id": "Qj6tWZlxLEdQ",
        "colab_type": "code",
        "colab": {}
      },
      "source": [
        "model.predict(X_test[:2])\n",
        "Y_test[:2]"
      ],
      "execution_count": 0,
      "outputs": []
    },
    {
      "cell_type": "code",
      "metadata": {
        "id": "pu0H5LlwKFIY",
        "colab_type": "code",
        "colab": {}
      },
      "source": [
        "predictions = model.predict(X_test)\n",
        "print(np.argmax(np.round(predictions[0])))\n",
        "plt.imshow(X_test[0].reshape(28, 28), cmap = plt.cm.binary)\n",
        "plt.show()"
      ],
      "execution_count": 0,
      "outputs": []
    },
    {
      "cell_type": "code",
      "metadata": {
        "id": "4hP79h2_bH-x",
        "colab_type": "code",
        "colab": {}
      },
      "source": [
        "# visualisasi loss tiap epoch\n",
        "import matplotlib.pyplot as plt\n",
        "\n",
        "plt.title('Loss')\n",
        "plt.plot(hst.history['loss'], label='train')\n",
        "plt.plot(hst.history['val_loss'], label='validation')\n",
        "plt.legend()\n",
        "plt.show()"
      ],
      "execution_count": 0,
      "outputs": []
    },
    {
      "cell_type": "code",
      "metadata": {
        "id": "50uwmAKrayZU",
        "colab_type": "code",
        "colab": {}
      },
      "source": [
        "# visualisasi accuracy tiap epoch\n",
        "plt.title('Accuracy')\n",
        "plt.plot(hst.history['acc'], label='train')\n",
        "plt.plot(hst.history['val_acc'], label='validation')\n",
        "plt.legend()\n",
        "plt.show()"
      ],
      "execution_count": 0,
      "outputs": []
    },
    {
      "cell_type": "markdown",
      "metadata": {
        "id": "cv_16LCSmPSD",
        "colab_type": "text"
      },
      "source": [
        "##References\n",
        "\n",
        "\n",
        "\n",
        "*   https://towardsdatascience.com/mnist-cnn-python-c61a5bce7a19\n",
        "*   https://medium.com/tensorflow/hello-deep-learning-fashion-mnist-with-keras-50fcff8cd74a\n",
        "*   https://machinelearningmastery.com/how-to-accelerate-learning-of-deep-neural-networks-with-batch-normalization/\n",
        "*   https://machinelearningmastery.com/learning-curves-for-diagnosing-machine-learning-model-performance/\n",
        "*   https://www.opencodez.com/python/text-classification-using-keras.htm\n",
        "*   https://towardsdatascience.com/analyzing-different-types-of-activation-functions-in-neural-networks-which-one-to-prefer-e11649256209\n",
        "*   https://towardsdatascience.com/activation-functions-and-its-types-which-is-better-a9a5310cc8f\n"
      ]
    }
  ]
}