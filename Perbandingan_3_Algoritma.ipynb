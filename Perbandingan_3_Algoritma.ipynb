{
  "nbformat": 4,
  "nbformat_minor": 0,
  "metadata": {
    "kernelspec": {
      "display_name": "Python 3",
      "language": "python",
      "name": "python3"
    },
    "language_info": {
      "codemirror_mode": {
        "name": "ipython",
        "version": 3
      },
      "file_extension": ".py",
      "mimetype": "text/x-python",
      "name": "python",
      "nbconvert_exporter": "python",
      "pygments_lexer": "ipython3",
      "version": "3.8.3"
    },
    "colab": {
      "name": "Perbandingan_3_Algoritma.ipynb",
      "provenance": [],
      "toc_visible": true,
      "include_colab_link": true
    }
  },
  "cells": [
    {
      "cell_type": "markdown",
      "metadata": {
        "id": "view-in-github",
        "colab_type": "text"
      },
      "source": [
        "<a href=\"https://colab.research.google.com/github/AfiyatiReno/Belajar-Python-Afiyati/blob/master/Perbandingan_3_Algoritma.ipynb\" target=\"_parent\"><img src=\"https://colab.research.google.com/assets/colab-badge.svg\" alt=\"Open In Colab\"/></a>"
      ]
    },
    {
      "cell_type": "code",
      "metadata": {
        "id": "cz7rrfukRRcT",
        "outputId": "2cab91ee-69d6-42a9-9003-a493da817c3b"
      },
      "source": [
        "from difflib import SequenceMatcher\n",
        "SequenceMatcher(None,\"aagr\",\"agar\").ratio()\n",
        "\n",
        "#Indo with and without LC"
      ],
      "execution_count": null,
      "outputs": [
        {
          "output_type": "execute_result",
          "data": {
            "text/plain": [
              "0.75"
            ]
          },
          "metadata": {
            "tags": []
          },
          "execution_count": 100
        }
      ]
    },
    {
      "cell_type": "markdown",
      "metadata": {
        "id": "C2xNIAtRRUb3"
      },
      "source": [
        "# New Section"
      ]
    },
    {
      "cell_type": "markdown",
      "metadata": {
        "id": "Ks4We0N9ReiD"
      },
      "source": [
        "# New Section"
      ]
    },
    {
      "cell_type": "code",
      "metadata": {
        "id": "Qzb_al64RRcZ",
        "outputId": "066bccc3-bdb4-487b-fc97-cb989fd570a9"
      },
      "source": [
        "from difflib import SequenceMatcher\n",
        "SequenceMatcher(None,\"aagr\",\"asrar\").ratio()\n",
        "\n",
        "#Eng with and without LC"
      ],
      "execution_count": null,
      "outputs": [
        {
          "output_type": "execute_result",
          "data": {
            "text/plain": [
              "0.6666666666666666"
            ]
          },
          "metadata": {
            "tags": []
          },
          "execution_count": 104
        }
      ]
    },
    {
      "cell_type": "code",
      "metadata": {
        "id": "BNL2yxKMRRcZ",
        "outputId": "03f6ce73-b08a-4e2a-f6b3-921f35d3ac07"
      },
      "source": [
        "from difflib import SequenceMatcher\n",
        "SequenceMatcher(None,\"aagr\",\"agar\").ratio()"
      ],
      "execution_count": null,
      "outputs": [
        {
          "output_type": "execute_result",
          "data": {
            "text/plain": [
              "0.75"
            ]
          },
          "metadata": {
            "tags": []
          },
          "execution_count": 80
        }
      ]
    },
    {
      "cell_type": "code",
      "metadata": {
        "id": "A6d25uOkRRca",
        "outputId": "39851998-7e43-4576-e19d-49b3c70ea494"
      },
      "source": [
        "from Levenshtein import distance\n",
        "edit_dist = distance(\"aagr\", \"abar\")\n",
        "print(edit_dist)"
      ],
      "execution_count": null,
      "outputs": [
        {
          "output_type": "stream",
          "text": [
            "2\n"
          ],
          "name": "stdout"
        }
      ]
    },
    {
      "cell_type": "code",
      "metadata": {
        "id": "K7dvzaKFRRca",
        "outputId": "037829e3-e51b-4033-801c-5a0d8164b512"
      },
      "source": [
        "from Levenshtein import distance\n",
        "edit_dist = distance(\"aagr\", \"asrar\")\n",
        "print(edit_dist)"
      ],
      "execution_count": null,
      "outputs": [
        {
          "output_type": "stream",
          "text": [
            "3\n"
          ],
          "name": "stdout"
        }
      ]
    },
    {
      "cell_type": "code",
      "metadata": {
        "id": "UyRxXJnZRRca",
        "outputId": "cb0766ee-8530-4592-f8e1-0d9ebcbaef5c"
      },
      "source": [
        "from pytextdist.edit_distance import jaro_similarity, jaro_winkler_similarity\n",
        "\n",
        "str_a = 'aagr'\n",
        "str_b = 'agar'\n",
        "simi_j = jaro_similarity(str_a,str_b)\n",
        "simi_jw = jaro_winkler_similarity(str_a,str_b)\n",
        "print(f\"Jaro Similarity:{simi_j:.2f}\\nJaro-Winkler Similarity:{simi_jw:.2f}\")"
      ],
      "execution_count": null,
      "outputs": [
        {
          "output_type": "stream",
          "text": [
            "Jaro Similarity:0.92\n",
            "Jaro-Winkler Similarity:0.92\n"
          ],
          "name": "stdout"
        }
      ]
    },
    {
      "cell_type": "code",
      "metadata": {
        "id": "DXx6MNUeRRcb",
        "outputId": "5c383fd2-6745-4ed4-945c-c5e212ff034d"
      },
      "source": [
        "from pytextdist.edit_distance import jaro_similarity, jaro_winkler_similarity\n",
        "\n",
        "str_a = 'aagr'\n",
        "str_b = 'afair'\n",
        "simi_j = jaro_similarity(str_a,str_b)\n",
        "simi_jw = jaro_winkler_similarity(str_a,str_b)\n",
        "print(f\"Jaro Similarity:{simi_j:.2f}\\nJaro-Winkler Similarity:{simi_jw:.2f}\")"
      ],
      "execution_count": null,
      "outputs": [
        {
          "output_type": "stream",
          "text": [
            "Jaro Similarity:0.78\n",
            "Jaro-Winkler Similarity:0.80\n"
          ],
          "name": "stdout"
        }
      ]
    },
    {
      "cell_type": "code",
      "metadata": {
        "id": "IlmtAyejRRcb",
        "outputId": "54292bc3-4bc3-4b30-c499-4855d30f0a3a"
      },
      "source": [
        "pip install pytextdist\n",
        "import codecs, difflib, Levenshtein"
      ],
      "execution_count": null,
      "outputs": [
        {
          "output_type": "stream",
          "text": [
            "Collecting pytextdist\n",
            "  Downloading pytextdist-0.1.6-py3-none-any.whl (10 kB)\n",
            "Installing collected packages: pytextdist\n",
            "Successfully installed pytextdist-0.1.6\n",
            "Note: you may need to restart the kernel to use updated packages.\n"
          ],
          "name": "stdout"
        }
      ]
    }
  ]
}